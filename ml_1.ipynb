{
 "cells": [
  {
   "cell_type": "markdown",
   "id": "b03d7f46-26f0-480d-a3f3-0adcb6037f3e",
   "metadata": {},
   "source": [
    "1) Loading the Data"
   ]
  },
  {
   "cell_type": "code",
   "execution_count": 5,
   "id": "f83c4e8b-1ba9-472a-a683-44ae21e43bcb",
   "metadata": {},
   "outputs": [],
   "source": [
    "import pandas as pd\n",
    "\n",
    "# Load the datasets\n",
    "train_features = pd.read_csv('training_set_features.csv')\n",
    "train_labels = pd.read_csv('training_set_labels.csv')\n",
    "test_features = pd.read_csv('test_set_features.csv')\n",
    "from sklearn.preprocessing import StandardScaler\n",
    "from sklearn.impute import SimpleImputer\n",
    "from sklearn.preprocessing import OneHotEncoder\n",
    "from sklearn.compose import ColumnTransformer\n",
    "from sklearn.pipeline import Pipeline\n",
    "\n",
    "# Identify numerical and categorical columns\n",
    "numerical_cols = train_features.select_dtypes(include=['int64', 'float64']).columns\n",
    "categorical_cols = train_features.select_dtypes(include=['object']).columns\n",
    "\n",
    "# Preprocessing for numerical data\n",
    "numerical_transformer = Pipeline(steps=[\n",
    "    ('imputer', SimpleImputer(strategy='median')),\n",
    "    ('scaler', StandardScaler())\n",
    "])\n",
    "\n",
    "# Preprocessing for categorical data\n",
    "categorical_transformer = Pipeline(steps=[\n",
    "    ('imputer', SimpleImputer(strategy='most_frequent')),\n",
    "    ('onehot', OneHotEncoder(handle_unknown='ignore'))\n",
    "])\n",
    "\n",
    "# Combine preprocessing steps\n",
    "preprocessor = ColumnTransformer(\n",
    "    transformers=[\n",
    "        ('num', numerical_transformer, numerical_cols),\n",
    "        ('cat', categorical_transformer, categorical_cols)\n",
    "    ])\n",
    "\n",
    "# Fit and transform the training data, and transform the test data\n",
    "X_train = preprocessor.fit_transform(train_features)\n",
    "X_test = preprocessor.transform(test_features)\n",
    "\n",
    "y_train_xyz = train_labels['xyz_vaccine']\n",
    "y_train_seasonal = train_labels['seasonal_vaccine']\n",
    "\n",
    "from sklearn.ensemble import RandomForestClassifier\n",
    "\n",
    "# Train the model for xyz_vaccine\n",
    "model_xyz = RandomForestClassifier(n_estimators=100, random_state=42)\n",
    "model_xyz.fit(X_train, y_train_xyz)\n",
    "\n",
    "# Train the model for seasonal_vaccine\n",
    "model_seasonal = RandomForestClassifier(n_estimators=100, random_state=42)\n",
    "model_seasonal.fit(X_train, y_train_seasonal)\n",
    "# Predict probabilities for xyz_vaccine\n",
    "xyz_vaccine_probs = model_xyz.predict_proba(X_test)[:, 1]\n",
    "\n",
    "# Predict probabilities for seasonal_vaccine\n",
    "seasonal_vaccine_probs = model_seasonal.predict_proba(X_test)[:, 1]\n",
    "# Create the submission dataframe\n",
    "submission = pd.DataFrame({\n",
    "    'respondent_id': test_features['respondent_id'],\n",
    "    'xyz_vaccine': xyz_vaccine_probs,\n",
    "    'seasonal_vaccine': seasonal_vaccine_probs\n",
    "})\n",
    "\n",
    "# Save the submission file\n",
    "submission.to_csv('test_set_labels.csv', index=False)\n"
   ]
  },
  {
   "cell_type": "code",
   "execution_count": null,
   "id": "75176d17-519d-4b65-9c8c-0de79496b214",
   "metadata": {},
   "outputs": [],
   "source": []
  }
 ],
 "metadata": {
  "kernelspec": {
   "display_name": "Python 3 (ipykernel)",
   "language": "python",
   "name": "python3"
  },
  "language_info": {
   "codemirror_mode": {
    "name": "ipython",
    "version": 3
   },
   "file_extension": ".py",
   "mimetype": "text/x-python",
   "name": "python",
   "nbconvert_exporter": "python",
   "pygments_lexer": "ipython3",
   "version": "3.11.7"
  }
 },
 "nbformat": 4,
 "nbformat_minor": 5
}
